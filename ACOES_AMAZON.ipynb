{
  "nbformat": 4,
  "nbformat_minor": 0,
  "metadata": {
    "colab": {
      "name": "ACOES_AMAZON.ipynb",
      "provenance": [],
      "collapsed_sections": [],
      "mount_file_id": "1cubO7TjAyTMWCOMBYL2DcQloho2gIupC",
      "authorship_tag": "ABX9TyP1/NQN1LO3GCwnruvJWdZF",
      "include_colab_link": true
    },
    "kernelspec": {
      "name": "python3",
      "display_name": "Python 3"
    }
  },
  "cells": [
    {
      "cell_type": "markdown",
      "metadata": {
        "id": "view-in-github",
        "colab_type": "text"
      },
      "source": [
        "<a href=\"https://colab.research.google.com/github/CLAUDERNORONHA/FINACAS/blob/master/ACOES_AMAZON.ipynb\" target=\"_parent\"><img src=\"https://colab.research.google.com/assets/colab-badge.svg\" alt=\"Open In Colab\"/></a>"
      ]
    },
    {
      "cell_type": "markdown",
      "metadata": {
        "id": "40RMbgR_8P_G",
        "colab_type": "text"
      },
      "source": [
        "Python  para  Finanças\n",
        "\n",
        "\n",
        "\n",
        "A base de dados você encontra https://www.nasdaq.com/market-activity/stocks/amzn/historical"
      ]
    },
    {
      "cell_type": "code",
      "metadata": {
        "id": "4yn2FuSmWOj6",
        "colab_type": "code",
        "colab": {}
      },
      "source": [
        "import pandas as pd\n",
        "import numpy as np\n",
        "import matplotlib.pyplot as plt\n"
      ],
      "execution_count": null,
      "outputs": []
    },
    {
      "cell_type": "code",
      "metadata": {
        "id": "yI7TllGiWc5C",
        "colab_type": "code",
        "colab": {}
      },
      "source": [
        "amzn = pd.read_csv('/content/drive/My Drive/MERCADO - AÇÕES/dados-valores.csv')"
      ],
      "execution_count": null,
      "outputs": []
    },
    {
      "cell_type": "code",
      "metadata": {
        "id": "tL-gevi1Wta5",
        "colab_type": "code",
        "colab": {
          "base_uri": "https://localhost:8080/",
          "height": 197
        },
        "outputId": "3cdc4e02-6813-410d-ae46-22ac2360620c"
      },
      "source": [
        "amzn.head()"
      ],
      "execution_count": null,
      "outputs": [
        {
          "output_type": "execute_result",
          "data": {
            "text/html": [
              "<div>\n",
              "<style scoped>\n",
              "    .dataframe tbody tr th:only-of-type {\n",
              "        vertical-align: middle;\n",
              "    }\n",
              "\n",
              "    .dataframe tbody tr th {\n",
              "        vertical-align: top;\n",
              "    }\n",
              "\n",
              "    .dataframe thead th {\n",
              "        text-align: right;\n",
              "    }\n",
              "</style>\n",
              "<table border=\"1\" class=\"dataframe\">\n",
              "  <thead>\n",
              "    <tr style=\"text-align: right;\">\n",
              "      <th></th>\n",
              "      <th>Date</th>\n",
              "      <th>Close/Last</th>\n",
              "      <th>Volume</th>\n",
              "      <th>Open</th>\n",
              "      <th>High</th>\n",
              "      <th>Low</th>\n",
              "    </tr>\n",
              "  </thead>\n",
              "  <tbody>\n",
              "    <tr>\n",
              "      <th>0</th>\n",
              "      <td>07/24/2020</td>\n",
              "      <td>$3008.91</td>\n",
              "      <td>5632413</td>\n",
              "      <td>$2930</td>\n",
              "      <td>$3031.58</td>\n",
              "      <td>$2888</td>\n",
              "    </tr>\n",
              "    <tr>\n",
              "      <th>1</th>\n",
              "      <td>07/23/2020</td>\n",
              "      <td>$2986.55</td>\n",
              "      <td>5656906</td>\n",
              "      <td>$3098.2713</td>\n",
              "      <td>$3098.2713</td>\n",
              "      <td>$2970</td>\n",
              "    </tr>\n",
              "    <tr>\n",
              "      <th>2</th>\n",
              "      <td>07/22/2020</td>\n",
              "      <td>$3099.91</td>\n",
              "      <td>4104225</td>\n",
              "      <td>$3125</td>\n",
              "      <td>$3149.9999</td>\n",
              "      <td>$3065.26</td>\n",
              "    </tr>\n",
              "    <tr>\n",
              "      <th>3</th>\n",
              "      <td>07/21/2020</td>\n",
              "      <td>$3138.29</td>\n",
              "      <td>6134965</td>\n",
              "      <td>$3232.49</td>\n",
              "      <td>$3240.5758</td>\n",
              "      <td>$3105.72</td>\n",
              "    </tr>\n",
              "    <tr>\n",
              "      <th>4</th>\n",
              "      <td>07/20/2020</td>\n",
              "      <td>$3196.84</td>\n",
              "      <td>7598176</td>\n",
              "      <td>$3000.2</td>\n",
              "      <td>$3201.3599</td>\n",
              "      <td>$2994.0172</td>\n",
              "    </tr>\n",
              "  </tbody>\n",
              "</table>\n",
              "</div>"
            ],
            "text/plain": [
              "         Date  Close/Last   Volume         Open         High          Low\n",
              "0  07/24/2020    $3008.91  5632413        $2930     $3031.58        $2888\n",
              "1  07/23/2020    $2986.55  5656906   $3098.2713   $3098.2713        $2970\n",
              "2  07/22/2020    $3099.91  4104225        $3125   $3149.9999     $3065.26\n",
              "3  07/21/2020    $3138.29  6134965     $3232.49   $3240.5758     $3105.72\n",
              "4  07/20/2020    $3196.84  7598176      $3000.2   $3201.3599   $2994.0172"
            ]
          },
          "metadata": {
            "tags": []
          },
          "execution_count": 3
        }
      ]
    },
    {
      "cell_type": "code",
      "metadata": {
        "id": "UJLh-_2SWv5M",
        "colab_type": "code",
        "colab": {
          "base_uri": "https://localhost:8080/",
          "height": 33
        },
        "outputId": "667d49e8-1d44-4d10-f912-b240c365f3e6"
      },
      "source": [
        "amzn.shape"
      ],
      "execution_count": null,
      "outputs": [
        {
          "output_type": "execute_result",
          "data": {
            "text/plain": [
              "(20, 6)"
            ]
          },
          "metadata": {
            "tags": []
          },
          "execution_count": 6
        }
      ]
    },
    {
      "cell_type": "code",
      "metadata": {
        "id": "Ly5EYYnMWywI",
        "colab_type": "code",
        "colab": {
          "base_uri": "https://localhost:8080/",
          "height": 233
        },
        "outputId": "520f0e69-fe56-4657-8b1b-7c4a6503fa0a"
      },
      "source": [
        "amzn.info()"
      ],
      "execution_count": null,
      "outputs": [
        {
          "output_type": "stream",
          "text": [
            "<class 'pandas.core.frame.DataFrame'>\n",
            "RangeIndex: 20 entries, 0 to 19\n",
            "Data columns (total 6 columns):\n",
            " #   Column       Non-Null Count  Dtype \n",
            "---  ------       --------------  ----- \n",
            " 0   Date         20 non-null     object\n",
            " 1    Close/Last  20 non-null     object\n",
            " 2    Volume      20 non-null     int64 \n",
            " 3    Open        20 non-null     object\n",
            " 4    High        20 non-null     object\n",
            " 5    Low         20 non-null     object\n",
            "dtypes: int64(1), object(5)\n",
            "memory usage: 1.1+ KB\n"
          ],
          "name": "stdout"
        }
      ]
    },
    {
      "cell_type": "code",
      "metadata": {
        "id": "SKZ7lv13W47s",
        "colab_type": "code",
        "colab": {}
      },
      "source": [
        ""
      ],
      "execution_count": null,
      "outputs": []
    },
    {
      "cell_type": "markdown",
      "metadata": {
        "id": "z72x7-1mXhUt",
        "colab_type": "text"
      },
      "source": [
        "## Método da cauda\n",
        "\n",
        "\n",
        "Outro método útil que chamaremos é o método da cauda. Ele exibe as últimas cinco linhas do quadro de dados. Digamos que se você deseja ver as últimas três linhas, pode inserir o valor 3 como um número inteiro entre parênteses."
      ]
    },
    {
      "cell_type": "code",
      "metadata": {
        "id": "Gw2CwIrYXlN3",
        "colab_type": "code",
        "colab": {
          "base_uri": "https://localhost:8080/",
          "height": 197
        },
        "outputId": "7cda0e51-c178-4411-d5e5-d5ea86b5db02"
      },
      "source": [
        "amzn.tail()"
      ],
      "execution_count": null,
      "outputs": [
        {
          "output_type": "execute_result",
          "data": {
            "text/html": [
              "<div>\n",
              "<style scoped>\n",
              "    .dataframe tbody tr th:only-of-type {\n",
              "        vertical-align: middle;\n",
              "    }\n",
              "\n",
              "    .dataframe tbody tr th {\n",
              "        vertical-align: top;\n",
              "    }\n",
              "\n",
              "    .dataframe thead th {\n",
              "        text-align: right;\n",
              "    }\n",
              "</style>\n",
              "<table border=\"1\" class=\"dataframe\">\n",
              "  <thead>\n",
              "    <tr style=\"text-align: right;\">\n",
              "      <th></th>\n",
              "      <th>Date</th>\n",
              "      <th>Close/Last</th>\n",
              "      <th>Volume</th>\n",
              "      <th>Open</th>\n",
              "      <th>High</th>\n",
              "      <th>Low</th>\n",
              "    </tr>\n",
              "  </thead>\n",
              "  <tbody>\n",
              "    <tr>\n",
              "      <th>15</th>\n",
              "      <td>07/02/2020</td>\n",
              "      <td>$2890.3</td>\n",
              "      <td>6593387</td>\n",
              "      <td>$2912.01</td>\n",
              "      <td>$2955.56</td>\n",
              "      <td>$2871.1021</td>\n",
              "    </tr>\n",
              "    <tr>\n",
              "      <th>16</th>\n",
              "      <td>07/01/2020</td>\n",
              "      <td>$2878.7</td>\n",
              "      <td>6363439</td>\n",
              "      <td>$2757.99</td>\n",
              "      <td>$2895</td>\n",
              "      <td>$2754</td>\n",
              "    </tr>\n",
              "    <tr>\n",
              "      <th>17</th>\n",
              "      <td>06/30/2020</td>\n",
              "      <td>$2758.82</td>\n",
              "      <td>3769686</td>\n",
              "      <td>$2685.065</td>\n",
              "      <td>$2769.63</td>\n",
              "      <td>$2675.03</td>\n",
              "    </tr>\n",
              "    <tr>\n",
              "      <th>18</th>\n",
              "      <td>06/29/2020</td>\n",
              "      <td>$2680.38</td>\n",
              "      <td>4223422</td>\n",
              "      <td>$2690.01</td>\n",
              "      <td>$2696.8</td>\n",
              "      <td>$2630.08</td>\n",
              "    </tr>\n",
              "    <tr>\n",
              "      <th>19</th>\n",
              "      <td>06/26/2020</td>\n",
              "      <td>$2692.87</td>\n",
              "      <td>6500784</td>\n",
              "      <td>$2775.056</td>\n",
              "      <td>$2782.5688</td>\n",
              "      <td>$2688</td>\n",
              "    </tr>\n",
              "  </tbody>\n",
              "</table>\n",
              "</div>"
            ],
            "text/plain": [
              "          Date  Close/Last   Volume        Open         High          Low\n",
              "15  07/02/2020     $2890.3  6593387    $2912.01     $2955.56   $2871.1021\n",
              "16  07/01/2020     $2878.7  6363439    $2757.99        $2895        $2754\n",
              "17  06/30/2020    $2758.82  3769686   $2685.065     $2769.63     $2675.03\n",
              "18  06/29/2020    $2680.38  4223422    $2690.01      $2696.8     $2630.08\n",
              "19  06/26/2020    $2692.87  6500784   $2775.056   $2782.5688        $2688"
            ]
          },
          "metadata": {
            "tags": []
          },
          "execution_count": 8
        }
      ]
    },
    {
      "cell_type": "code",
      "metadata": {
        "id": "iHlV6IvXXwFL",
        "colab_type": "code",
        "colab": {
          "base_uri": "https://localhost:8080/",
          "height": 287
        },
        "outputId": "fdf8692d-9bc8-4688-ab49-c03a46f6aa58"
      },
      "source": [
        "amzn.describe()"
      ],
      "execution_count": null,
      "outputs": [
        {
          "output_type": "execute_result",
          "data": {
            "text/html": [
              "<div>\n",
              "<style scoped>\n",
              "    .dataframe tbody tr th:only-of-type {\n",
              "        vertical-align: middle;\n",
              "    }\n",
              "\n",
              "    .dataframe tbody tr th {\n",
              "        vertical-align: top;\n",
              "    }\n",
              "\n",
              "    .dataframe thead th {\n",
              "        text-align: right;\n",
              "    }\n",
              "</style>\n",
              "<table border=\"1\" class=\"dataframe\">\n",
              "  <thead>\n",
              "    <tr style=\"text-align: right;\">\n",
              "      <th></th>\n",
              "      <th>Volume</th>\n",
              "    </tr>\n",
              "  </thead>\n",
              "  <tbody>\n",
              "    <tr>\n",
              "      <th>count</th>\n",
              "      <td>2.000000e+01</td>\n",
              "    </tr>\n",
              "    <tr>\n",
              "      <th>mean</th>\n",
              "      <td>5.876231e+06</td>\n",
              "    </tr>\n",
              "    <tr>\n",
              "      <th>std</th>\n",
              "      <td>1.120582e+06</td>\n",
              "    </tr>\n",
              "    <tr>\n",
              "      <th>min</th>\n",
              "      <td>3.769686e+06</td>\n",
              "    </tr>\n",
              "    <tr>\n",
              "      <th>25%</th>\n",
              "      <td>5.202544e+06</td>\n",
              "    </tr>\n",
              "    <tr>\n",
              "      <th>50%</th>\n",
              "      <td>5.961920e+06</td>\n",
              "    </tr>\n",
              "    <tr>\n",
              "      <th>75%</th>\n",
              "      <td>6.523935e+06</td>\n",
              "    </tr>\n",
              "    <tr>\n",
              "      <th>max</th>\n",
              "      <td>7.720420e+06</td>\n",
              "    </tr>\n",
              "  </tbody>\n",
              "</table>\n",
              "</div>"
            ],
            "text/plain": [
              "             Volume\n",
              "count  2.000000e+01\n",
              "mean   5.876231e+06\n",
              "std    1.120582e+06\n",
              "min    3.769686e+06\n",
              "25%    5.202544e+06\n",
              "50%    5.961920e+06\n",
              "75%    6.523935e+06\n",
              "max    7.720420e+06"
            ]
          },
          "metadata": {
            "tags": []
          },
          "execution_count": 9
        }
      ]
    },
    {
      "cell_type": "markdown",
      "metadata": {
        "id": "ghK8GFdeYOSi",
        "colab_type": "text"
      },
      "source": [
        "Por que estamos apenas obtendo valores para a coluna Volume e não para outras colunas? Aí vem o que chamamos de preparação de dados. Limpar dados e prepará-los para análise é um passo importante. Há algumas coisas que precisamos cuidar antes de seguirmos para as próximas etapas. "
      ]
    },
    {
      "cell_type": "code",
      "metadata": {
        "id": "QkLvbOUPYQZa",
        "colab_type": "code",
        "colab": {}
      },
      "source": [
        ""
      ],
      "execution_count": null,
      "outputs": []
    },
    {
      "cell_type": "markdown",
      "metadata": {
        "id": "Ki0qxm5KYUFi",
        "colab_type": "text"
      },
      "source": [
        "#Limpeza de dados\n",
        "\n",
        "\n",
        "Mencionamos anteriormente que o método de descrição funciona especificamente com valores numéricos, isso significa que a coluna Volume foi o único valor numérico em nosso quadro de dados. Vamos verificar os tipos de dados de nossas colunas."
      ]
    },
    {
      "cell_type": "code",
      "metadata": {
        "id": "8trw4I9iYady",
        "colab_type": "code",
        "colab": {
          "base_uri": "https://localhost:8080/",
          "height": 133
        },
        "outputId": "00d5cd28-3953-46e5-a1f1-d6b3de6c4794"
      },
      "source": [
        "amzn.dtypes"
      ],
      "execution_count": null,
      "outputs": [
        {
          "output_type": "execute_result",
          "data": {
            "text/plain": [
              "Date           object\n",
              " Close/Last    object\n",
              " Volume         int64\n",
              " Open          object\n",
              " High          object\n",
              " Low           object\n",
              "dtype: object"
            ]
          },
          "metadata": {
            "tags": []
          },
          "execution_count": 10
        }
      ]
    },
    {
      "cell_type": "markdown",
      "metadata": {
        "id": "-zbLSdF1Z_WA",
        "colab_type": "text"
      },
      "source": [
        ""
      ]
    },
    {
      "cell_type": "code",
      "metadata": {
        "id": "p3n4GBP_Yakb",
        "colab_type": "code",
        "colab": {}
      },
      "source": [
        ""
      ],
      "execution_count": null,
      "outputs": []
    },
    {
      "cell_type": "markdown",
      "metadata": {
        "id": "uQAON89qbQNi",
        "colab_type": "text"
      },
      "source": [
        "Bom, agora podemos converter os tipos de dados. Não precisamos alterar nada nas colunas Data e Volume. Converteremos as colunas restantes em um valor numérico. Para este exercício, podemos usar o tipo numérico float."
      ]
    },
    {
      "cell_type": "code",
      "metadata": {
        "id": "ii2_PGtyYanH",
        "colab_type": "code",
        "colab": {}
      },
      "source": [
        "#Vamos renomear o nome das colunas e convertendo os tipos de dados "
      ],
      "execution_count": null,
      "outputs": []
    },
    {
      "cell_type": "code",
      "metadata": {
        "id": "ziex7xktbkgx",
        "colab_type": "code",
        "colab": {}
      },
      "source": [
        "dados = amzn\n",
        "\n",
        "dados.columns = ['Data','Fechar','Volume','Abrir','Alto','Baixo']"
      ],
      "execution_count": null,
      "outputs": []
    },
    {
      "cell_type": "code",
      "metadata": {
        "id": "1n_4gZPSbkjz",
        "colab_type": "code",
        "colab": {
          "base_uri": "https://localhost:8080/",
          "height": 197
        },
        "outputId": "85c7df65-f92b-4c01-f008-8fd3e7de628a"
      },
      "source": [
        "dados.head()"
      ],
      "execution_count": null,
      "outputs": [
        {
          "output_type": "execute_result",
          "data": {
            "text/html": [
              "<div>\n",
              "<style scoped>\n",
              "    .dataframe tbody tr th:only-of-type {\n",
              "        vertical-align: middle;\n",
              "    }\n",
              "\n",
              "    .dataframe tbody tr th {\n",
              "        vertical-align: top;\n",
              "    }\n",
              "\n",
              "    .dataframe thead th {\n",
              "        text-align: right;\n",
              "    }\n",
              "</style>\n",
              "<table border=\"1\" class=\"dataframe\">\n",
              "  <thead>\n",
              "    <tr style=\"text-align: right;\">\n",
              "      <th></th>\n",
              "      <th>Data</th>\n",
              "      <th>Fechar</th>\n",
              "      <th>Volume</th>\n",
              "      <th>Abrir</th>\n",
              "      <th>Alto</th>\n",
              "      <th>Baixo</th>\n",
              "    </tr>\n",
              "  </thead>\n",
              "  <tbody>\n",
              "    <tr>\n",
              "      <th>0</th>\n",
              "      <td>07/24/2020</td>\n",
              "      <td>$3008.91</td>\n",
              "      <td>5632413</td>\n",
              "      <td>$2930</td>\n",
              "      <td>$3031.58</td>\n",
              "      <td>$2888</td>\n",
              "    </tr>\n",
              "    <tr>\n",
              "      <th>1</th>\n",
              "      <td>07/23/2020</td>\n",
              "      <td>$2986.55</td>\n",
              "      <td>5656906</td>\n",
              "      <td>$3098.2713</td>\n",
              "      <td>$3098.2713</td>\n",
              "      <td>$2970</td>\n",
              "    </tr>\n",
              "    <tr>\n",
              "      <th>2</th>\n",
              "      <td>07/22/2020</td>\n",
              "      <td>$3099.91</td>\n",
              "      <td>4104225</td>\n",
              "      <td>$3125</td>\n",
              "      <td>$3149.9999</td>\n",
              "      <td>$3065.26</td>\n",
              "    </tr>\n",
              "    <tr>\n",
              "      <th>3</th>\n",
              "      <td>07/21/2020</td>\n",
              "      <td>$3138.29</td>\n",
              "      <td>6134965</td>\n",
              "      <td>$3232.49</td>\n",
              "      <td>$3240.5758</td>\n",
              "      <td>$3105.72</td>\n",
              "    </tr>\n",
              "    <tr>\n",
              "      <th>4</th>\n",
              "      <td>07/20/2020</td>\n",
              "      <td>$3196.84</td>\n",
              "      <td>7598176</td>\n",
              "      <td>$3000.2</td>\n",
              "      <td>$3201.3599</td>\n",
              "      <td>$2994.0172</td>\n",
              "    </tr>\n",
              "  </tbody>\n",
              "</table>\n",
              "</div>"
            ],
            "text/plain": [
              "         Data     Fechar   Volume        Abrir         Alto        Baixo\n",
              "0  07/24/2020   $3008.91  5632413        $2930     $3031.58        $2888\n",
              "1  07/23/2020   $2986.55  5656906   $3098.2713   $3098.2713        $2970\n",
              "2  07/22/2020   $3099.91  4104225        $3125   $3149.9999     $3065.26\n",
              "3  07/21/2020   $3138.29  6134965     $3232.49   $3240.5758     $3105.72\n",
              "4  07/20/2020   $3196.84  7598176      $3000.2   $3201.3599   $2994.0172"
            ]
          },
          "metadata": {
            "tags": []
          },
          "execution_count": 17
        }
      ]
    },
    {
      "cell_type": "code",
      "metadata": {
        "id": "WvYeA4_-iGUF",
        "colab_type": "code",
        "colab": {}
      },
      "source": [
        ""
      ],
      "execution_count": null,
      "outputs": []
    },
    {
      "cell_type": "markdown",
      "metadata": {
        "id": "8rxaA7fbiGzC",
        "colab_type": "text"
      },
      "source": [
        "Como você pode ver acima, a coluna Volume é o único tipo inteiro e o restante é um tipo de objeto. Portanto, temos que cuidar dos tipos de dados. Porém, antes de convertê-los, limpamos o cifrão, caso contrário, nosso programa ficará confuso ao tentar converter o cifrão em um valor numérico."
      ]
    },
    {
      "cell_type": "code",
      "metadata": {
        "id": "ZhmyM7hneys-",
        "colab_type": "code",
        "colab": {
          "base_uri": "https://localhost:8080/",
          "height": 197
        },
        "outputId": "e20c1965-926a-478c-d5ff-6b5b34db7f79"
      },
      "source": [
        "#Tirar os caractres  da base de dados\n",
        "\n",
        "dados['Fechar'] = dados['Fechar'].apply(lambda x: str(x).replace(\"$\",\" \"))\n",
        "\n",
        "dados['Abrir'] = dados['Abrir'].apply(lambda x: str(x).replace(\"$\", \" \"))\n",
        "\n",
        "dados['Alto'] = dados['Alto'].apply(lambda x: str(x).replace(\"$\", \" \"))\n",
        "\n",
        "dados['Baixo'] = dados['Baixo'].apply(lambda x: str(x).replace(\"$\", \" \"))\n",
        "\n",
        "dados.head()"
      ],
      "execution_count": null,
      "outputs": [
        {
          "output_type": "execute_result",
          "data": {
            "text/html": [
              "<div>\n",
              "<style scoped>\n",
              "    .dataframe tbody tr th:only-of-type {\n",
              "        vertical-align: middle;\n",
              "    }\n",
              "\n",
              "    .dataframe tbody tr th {\n",
              "        vertical-align: top;\n",
              "    }\n",
              "\n",
              "    .dataframe thead th {\n",
              "        text-align: right;\n",
              "    }\n",
              "</style>\n",
              "<table border=\"1\" class=\"dataframe\">\n",
              "  <thead>\n",
              "    <tr style=\"text-align: right;\">\n",
              "      <th></th>\n",
              "      <th>Data</th>\n",
              "      <th>Fechar</th>\n",
              "      <th>Volume</th>\n",
              "      <th>Abrir</th>\n",
              "      <th>Alto</th>\n",
              "      <th>Baixo</th>\n",
              "    </tr>\n",
              "  </thead>\n",
              "  <tbody>\n",
              "    <tr>\n",
              "      <th>0</th>\n",
              "      <td>07/24/2020</td>\n",
              "      <td>3008.91</td>\n",
              "      <td>5632413</td>\n",
              "      <td>2930</td>\n",
              "      <td>3031.58</td>\n",
              "      <td>2888</td>\n",
              "    </tr>\n",
              "    <tr>\n",
              "      <th>1</th>\n",
              "      <td>07/23/2020</td>\n",
              "      <td>2986.55</td>\n",
              "      <td>5656906</td>\n",
              "      <td>3098.2713</td>\n",
              "      <td>3098.2713</td>\n",
              "      <td>2970</td>\n",
              "    </tr>\n",
              "    <tr>\n",
              "      <th>2</th>\n",
              "      <td>07/22/2020</td>\n",
              "      <td>3099.91</td>\n",
              "      <td>4104225</td>\n",
              "      <td>3125</td>\n",
              "      <td>3149.9999</td>\n",
              "      <td>3065.26</td>\n",
              "    </tr>\n",
              "    <tr>\n",
              "      <th>3</th>\n",
              "      <td>07/21/2020</td>\n",
              "      <td>3138.29</td>\n",
              "      <td>6134965</td>\n",
              "      <td>3232.49</td>\n",
              "      <td>3240.5758</td>\n",
              "      <td>3105.72</td>\n",
              "    </tr>\n",
              "    <tr>\n",
              "      <th>4</th>\n",
              "      <td>07/20/2020</td>\n",
              "      <td>3196.84</td>\n",
              "      <td>7598176</td>\n",
              "      <td>3000.2</td>\n",
              "      <td>3201.3599</td>\n",
              "      <td>2994.0172</td>\n",
              "    </tr>\n",
              "  </tbody>\n",
              "</table>\n",
              "</div>"
            ],
            "text/plain": [
              "         Data     Fechar   Volume        Abrir         Alto        Baixo\n",
              "0  07/24/2020    3008.91  5632413         2930      3031.58         2888\n",
              "1  07/23/2020    2986.55  5656906    3098.2713    3098.2713         2970\n",
              "2  07/22/2020    3099.91  4104225         3125    3149.9999      3065.26\n",
              "3  07/21/2020    3138.29  6134965      3232.49    3240.5758      3105.72\n",
              "4  07/20/2020    3196.84  7598176       3000.2    3201.3599    2994.0172"
            ]
          },
          "metadata": {
            "tags": []
          },
          "execution_count": 36
        }
      ]
    },
    {
      "cell_type": "code",
      "metadata": {
        "id": "8E5ZD0q3e4tQ",
        "colab_type": "code",
        "colab": {}
      },
      "source": [
        ""
      ],
      "execution_count": null,
      "outputs": []
    },
    {
      "cell_type": "markdown",
      "metadata": {
        "id": "hrdqc9M-iPjp",
        "colab_type": "text"
      },
      "source": [
        "Agora vamos transformar os dados em folat é int"
      ]
    },
    {
      "cell_type": "code",
      "metadata": {
        "id": "A12Ght9ybksD",
        "colab_type": "code",
        "colab": {}
      },
      "source": [
        "dados = dados.astype({\"Fechar\":float, \"Volume\":int, \"Abrir\":float, \"Alto\":float, \"Baixo\": float})"
      ],
      "execution_count": null,
      "outputs": []
    },
    {
      "cell_type": "code",
      "metadata": {
        "id": "alpHEkSPcTmx",
        "colab_type": "code",
        "colab": {
          "base_uri": "https://localhost:8080/",
          "height": 133
        },
        "outputId": "9f5f9586-8848-4470-ada4-a56c994c1f3b"
      },
      "source": [
        "#Vamos conferir se teve a mudança.\n",
        "dados.dtypes"
      ],
      "execution_count": null,
      "outputs": [
        {
          "output_type": "execute_result",
          "data": {
            "text/plain": [
              "Data       object\n",
              "Fechar    float64\n",
              "Volume      int64\n",
              "Abrir     float64\n",
              "Alto      float64\n",
              "Baixo     float64\n",
              "dtype: object"
            ]
          },
          "metadata": {
            "tags": []
          },
          "execution_count": 38
        }
      ]
    },
    {
      "cell_type": "code",
      "metadata": {
        "id": "SBdtEfGkcTpo",
        "colab_type": "code",
        "colab": {}
      },
      "source": [
        ""
      ],
      "execution_count": null,
      "outputs": []
    },
    {
      "cell_type": "markdown",
      "metadata": {
        "id": "zIgNQfbRisIa",
        "colab_type": "text"
      },
      "source": [
        "Ótimo, resolvemos o problema do tipo de dados. Agora, vamos tentar executar o método de descrição e ver como ele funciona."
      ]
    },
    {
      "cell_type": "code",
      "metadata": {
        "id": "byucITifcTty",
        "colab_type": "code",
        "colab": {
          "base_uri": "https://localhost:8080/",
          "height": 287
        },
        "outputId": "0d5bd69a-89af-4bbe-c068-c8e359af3475"
      },
      "source": [
        "dados.describe()"
      ],
      "execution_count": null,
      "outputs": [
        {
          "output_type": "execute_result",
          "data": {
            "text/html": [
              "<div>\n",
              "<style scoped>\n",
              "    .dataframe tbody tr th:only-of-type {\n",
              "        vertical-align: middle;\n",
              "    }\n",
              "\n",
              "    .dataframe tbody tr th {\n",
              "        vertical-align: top;\n",
              "    }\n",
              "\n",
              "    .dataframe thead th {\n",
              "        text-align: right;\n",
              "    }\n",
              "</style>\n",
              "<table border=\"1\" class=\"dataframe\">\n",
              "  <thead>\n",
              "    <tr style=\"text-align: right;\">\n",
              "      <th></th>\n",
              "      <th>Fechar</th>\n",
              "      <th>Volume</th>\n",
              "      <th>Abrir</th>\n",
              "      <th>Alto</th>\n",
              "      <th>Baixo</th>\n",
              "    </tr>\n",
              "  </thead>\n",
              "  <tbody>\n",
              "    <tr>\n",
              "      <th>count</th>\n",
              "      <td>20.000000</td>\n",
              "      <td>2.000000e+01</td>\n",
              "      <td>20.000000</td>\n",
              "      <td>20.000000</td>\n",
              "      <td>20.000000</td>\n",
              "    </tr>\n",
              "    <tr>\n",
              "      <th>mean</th>\n",
              "      <td>3000.560500</td>\n",
              "      <td>5.876231e+06</td>\n",
              "      <td>2996.516115</td>\n",
              "      <td>3053.482280</td>\n",
              "      <td>2932.079560</td>\n",
              "    </tr>\n",
              "    <tr>\n",
              "      <th>std</th>\n",
              "      <td>154.253819</td>\n",
              "      <td>1.120582e+06</td>\n",
              "      <td>167.470527</td>\n",
              "      <td>166.222577</td>\n",
              "      <td>145.069514</td>\n",
              "    </tr>\n",
              "    <tr>\n",
              "      <th>min</th>\n",
              "      <td>2680.380000</td>\n",
              "      <td>3.769686e+06</td>\n",
              "      <td>2685.065000</td>\n",
              "      <td>2696.800000</td>\n",
              "      <td>2630.080000</td>\n",
              "    </tr>\n",
              "    <tr>\n",
              "      <th>25%</th>\n",
              "      <td>2944.052500</td>\n",
              "      <td>5.202544e+06</td>\n",
              "      <td>2925.502500</td>\n",
              "      <td>3006.890000</td>\n",
              "      <td>2883.775525</td>\n",
              "    </tr>\n",
              "    <tr>\n",
              "      <th>50%</th>\n",
              "      <td>3008.890000</td>\n",
              "      <td>5.961920e+06</td>\n",
              "      <td>3015.805000</td>\n",
              "      <td>3076.760000</td>\n",
              "      <td>2960.000000</td>\n",
              "    </tr>\n",
              "    <tr>\n",
              "      <th>75%</th>\n",
              "      <td>3100.932500</td>\n",
              "      <td>6.523935e+06</td>\n",
              "      <td>3102.700975</td>\n",
              "      <td>3160.969900</td>\n",
              "      <td>3025.637575</td>\n",
              "    </tr>\n",
              "    <tr>\n",
              "      <th>max</th>\n",
              "      <td>3200.000000</td>\n",
              "      <td>7.720420e+06</td>\n",
              "      <td>3251.060000</td>\n",
              "      <td>3344.290000</td>\n",
              "      <td>3135.700000</td>\n",
              "    </tr>\n",
              "  </tbody>\n",
              "</table>\n",
              "</div>"
            ],
            "text/plain": [
              "            Fechar        Volume        Abrir         Alto        Baixo\n",
              "count    20.000000  2.000000e+01    20.000000    20.000000    20.000000\n",
              "mean   3000.560500  5.876231e+06  2996.516115  3053.482280  2932.079560\n",
              "std     154.253819  1.120582e+06   167.470527   166.222577   145.069514\n",
              "min    2680.380000  3.769686e+06  2685.065000  2696.800000  2630.080000\n",
              "25%    2944.052500  5.202544e+06  2925.502500  3006.890000  2883.775525\n",
              "50%    3008.890000  5.961920e+06  3015.805000  3076.760000  2960.000000\n",
              "75%    3100.932500  6.523935e+06  3102.700975  3160.969900  3025.637575\n",
              "max    3200.000000  7.720420e+06  3251.060000  3344.290000  3135.700000"
            ]
          },
          "metadata": {
            "tags": []
          },
          "execution_count": 39
        }
      ]
    },
    {
      "cell_type": "code",
      "metadata": {
        "id": "yjU0Z5xjcTxB",
        "colab_type": "code",
        "colab": {}
      },
      "source": [
        ""
      ],
      "execution_count": null,
      "outputs": []
    },
    {
      "cell_type": "markdown",
      "metadata": {
        "id": "9327lZEnjC_J",
        "colab_type": "text"
      },
      "source": [
        "Bem feito! Agora, como você pode ver acima, o método de descrição funcionou perfeitamente com todas as nossas colunas numéricas. Também podemos personalizar nossos resultados para o método de descrição usando parâmetros diferentes. A descrição tem três parâmetros que usaremos neste exemplo: include, percentiles e exclude."
      ]
    },
    {
      "cell_type": "code",
      "metadata": {
        "id": "6ypnSJwIi5Aa",
        "colab_type": "code",
        "colab": {
          "base_uri": "https://localhost:8080/",
          "height": 167
        },
        "outputId": "25fe12b3-bf21-4a98-d2d6-847be5d79f8d"
      },
      "source": [
        "dados.describe(include='float').T"
      ],
      "execution_count": null,
      "outputs": [
        {
          "output_type": "execute_result",
          "data": {
            "text/html": [
              "<div>\n",
              "<style scoped>\n",
              "    .dataframe tbody tr th:only-of-type {\n",
              "        vertical-align: middle;\n",
              "    }\n",
              "\n",
              "    .dataframe tbody tr th {\n",
              "        vertical-align: top;\n",
              "    }\n",
              "\n",
              "    .dataframe thead th {\n",
              "        text-align: right;\n",
              "    }\n",
              "</style>\n",
              "<table border=\"1\" class=\"dataframe\">\n",
              "  <thead>\n",
              "    <tr style=\"text-align: right;\">\n",
              "      <th></th>\n",
              "      <th>count</th>\n",
              "      <th>mean</th>\n",
              "      <th>std</th>\n",
              "      <th>min</th>\n",
              "      <th>25%</th>\n",
              "      <th>50%</th>\n",
              "      <th>75%</th>\n",
              "      <th>max</th>\n",
              "    </tr>\n",
              "  </thead>\n",
              "  <tbody>\n",
              "    <tr>\n",
              "      <th>Fechar</th>\n",
              "      <td>20.0</td>\n",
              "      <td>3000.560500</td>\n",
              "      <td>154.253819</td>\n",
              "      <td>2680.380</td>\n",
              "      <td>2944.052500</td>\n",
              "      <td>3008.890</td>\n",
              "      <td>3100.932500</td>\n",
              "      <td>3200.00</td>\n",
              "    </tr>\n",
              "    <tr>\n",
              "      <th>Abrir</th>\n",
              "      <td>20.0</td>\n",
              "      <td>2996.516115</td>\n",
              "      <td>167.470527</td>\n",
              "      <td>2685.065</td>\n",
              "      <td>2925.502500</td>\n",
              "      <td>3015.805</td>\n",
              "      <td>3102.700975</td>\n",
              "      <td>3251.06</td>\n",
              "    </tr>\n",
              "    <tr>\n",
              "      <th>Alto</th>\n",
              "      <td>20.0</td>\n",
              "      <td>3053.482280</td>\n",
              "      <td>166.222577</td>\n",
              "      <td>2696.800</td>\n",
              "      <td>3006.890000</td>\n",
              "      <td>3076.760</td>\n",
              "      <td>3160.969900</td>\n",
              "      <td>3344.29</td>\n",
              "    </tr>\n",
              "    <tr>\n",
              "      <th>Baixo</th>\n",
              "      <td>20.0</td>\n",
              "      <td>2932.079560</td>\n",
              "      <td>145.069514</td>\n",
              "      <td>2630.080</td>\n",
              "      <td>2883.775525</td>\n",
              "      <td>2960.000</td>\n",
              "      <td>3025.637575</td>\n",
              "      <td>3135.70</td>\n",
              "    </tr>\n",
              "  </tbody>\n",
              "</table>\n",
              "</div>"
            ],
            "text/plain": [
              "        count         mean         std  ...       50%          75%      max\n",
              "Fechar   20.0  3000.560500  154.253819  ...  3008.890  3100.932500  3200.00\n",
              "Abrir    20.0  2996.516115  167.470527  ...  3015.805  3102.700975  3251.06\n",
              "Alto     20.0  3053.482280  166.222577  ...  3076.760  3160.969900  3344.29\n",
              "Baixo    20.0  2932.079560  145.069514  ...  2960.000  3025.637575  3135.70\n",
              "\n",
              "[4 rows x 8 columns]"
            ]
          },
          "metadata": {
            "tags": []
          },
          "execution_count": 41
        }
      ]
    },
    {
      "cell_type": "code",
      "metadata": {
        "id": "VV-LlCXsi5DR",
        "colab_type": "code",
        "colab": {
          "base_uri": "https://localhost:8080/",
          "height": 167
        },
        "outputId": "ca86b0e4-566e-4088-c1a2-1740d0440564"
      },
      "source": [
        "dados.describe(include='object')"
      ],
      "execution_count": null,
      "outputs": [
        {
          "output_type": "execute_result",
          "data": {
            "text/html": [
              "<div>\n",
              "<style scoped>\n",
              "    .dataframe tbody tr th:only-of-type {\n",
              "        vertical-align: middle;\n",
              "    }\n",
              "\n",
              "    .dataframe tbody tr th {\n",
              "        vertical-align: top;\n",
              "    }\n",
              "\n",
              "    .dataframe thead th {\n",
              "        text-align: right;\n",
              "    }\n",
              "</style>\n",
              "<table border=\"1\" class=\"dataframe\">\n",
              "  <thead>\n",
              "    <tr style=\"text-align: right;\">\n",
              "      <th></th>\n",
              "      <th>Data</th>\n",
              "    </tr>\n",
              "  </thead>\n",
              "  <tbody>\n",
              "    <tr>\n",
              "      <th>count</th>\n",
              "      <td>20</td>\n",
              "    </tr>\n",
              "    <tr>\n",
              "      <th>unique</th>\n",
              "      <td>20</td>\n",
              "    </tr>\n",
              "    <tr>\n",
              "      <th>top</th>\n",
              "      <td>06/30/2020</td>\n",
              "    </tr>\n",
              "    <tr>\n",
              "      <th>freq</th>\n",
              "      <td>1</td>\n",
              "    </tr>\n",
              "  </tbody>\n",
              "</table>\n",
              "</div>"
            ],
            "text/plain": [
              "              Data\n",
              "count           20\n",
              "unique          20\n",
              "top     06/30/2020\n",
              "freq             1"
            ]
          },
          "metadata": {
            "tags": []
          },
          "execution_count": 42
        }
      ]
    },
    {
      "cell_type": "code",
      "metadata": {
        "id": "l7UhXSnxi5GQ",
        "colab_type": "code",
        "colab": {
          "base_uri": "https://localhost:8080/",
          "height": 377
        },
        "outputId": "34b297d5-7421-4164-88b5-1d9419d3c43c"
      },
      "source": [
        "dados.describe(exclude='int')"
      ],
      "execution_count": null,
      "outputs": [
        {
          "output_type": "execute_result",
          "data": {
            "text/html": [
              "<div>\n",
              "<style scoped>\n",
              "    .dataframe tbody tr th:only-of-type {\n",
              "        vertical-align: middle;\n",
              "    }\n",
              "\n",
              "    .dataframe tbody tr th {\n",
              "        vertical-align: top;\n",
              "    }\n",
              "\n",
              "    .dataframe thead th {\n",
              "        text-align: right;\n",
              "    }\n",
              "</style>\n",
              "<table border=\"1\" class=\"dataframe\">\n",
              "  <thead>\n",
              "    <tr style=\"text-align: right;\">\n",
              "      <th></th>\n",
              "      <th>Data</th>\n",
              "      <th>Fechar</th>\n",
              "      <th>Abrir</th>\n",
              "      <th>Alto</th>\n",
              "      <th>Baixo</th>\n",
              "    </tr>\n",
              "  </thead>\n",
              "  <tbody>\n",
              "    <tr>\n",
              "      <th>count</th>\n",
              "      <td>20</td>\n",
              "      <td>20.000000</td>\n",
              "      <td>20.000000</td>\n",
              "      <td>20.000000</td>\n",
              "      <td>20.000000</td>\n",
              "    </tr>\n",
              "    <tr>\n",
              "      <th>unique</th>\n",
              "      <td>20</td>\n",
              "      <td>NaN</td>\n",
              "      <td>NaN</td>\n",
              "      <td>NaN</td>\n",
              "      <td>NaN</td>\n",
              "    </tr>\n",
              "    <tr>\n",
              "      <th>top</th>\n",
              "      <td>06/30/2020</td>\n",
              "      <td>NaN</td>\n",
              "      <td>NaN</td>\n",
              "      <td>NaN</td>\n",
              "      <td>NaN</td>\n",
              "    </tr>\n",
              "    <tr>\n",
              "      <th>freq</th>\n",
              "      <td>1</td>\n",
              "      <td>NaN</td>\n",
              "      <td>NaN</td>\n",
              "      <td>NaN</td>\n",
              "      <td>NaN</td>\n",
              "    </tr>\n",
              "    <tr>\n",
              "      <th>mean</th>\n",
              "      <td>NaN</td>\n",
              "      <td>3000.560500</td>\n",
              "      <td>2996.516115</td>\n",
              "      <td>3053.482280</td>\n",
              "      <td>2932.079560</td>\n",
              "    </tr>\n",
              "    <tr>\n",
              "      <th>std</th>\n",
              "      <td>NaN</td>\n",
              "      <td>154.253819</td>\n",
              "      <td>167.470527</td>\n",
              "      <td>166.222577</td>\n",
              "      <td>145.069514</td>\n",
              "    </tr>\n",
              "    <tr>\n",
              "      <th>min</th>\n",
              "      <td>NaN</td>\n",
              "      <td>2680.380000</td>\n",
              "      <td>2685.065000</td>\n",
              "      <td>2696.800000</td>\n",
              "      <td>2630.080000</td>\n",
              "    </tr>\n",
              "    <tr>\n",
              "      <th>25%</th>\n",
              "      <td>NaN</td>\n",
              "      <td>2944.052500</td>\n",
              "      <td>2925.502500</td>\n",
              "      <td>3006.890000</td>\n",
              "      <td>2883.775525</td>\n",
              "    </tr>\n",
              "    <tr>\n",
              "      <th>50%</th>\n",
              "      <td>NaN</td>\n",
              "      <td>3008.890000</td>\n",
              "      <td>3015.805000</td>\n",
              "      <td>3076.760000</td>\n",
              "      <td>2960.000000</td>\n",
              "    </tr>\n",
              "    <tr>\n",
              "      <th>75%</th>\n",
              "      <td>NaN</td>\n",
              "      <td>3100.932500</td>\n",
              "      <td>3102.700975</td>\n",
              "      <td>3160.969900</td>\n",
              "      <td>3025.637575</td>\n",
              "    </tr>\n",
              "    <tr>\n",
              "      <th>max</th>\n",
              "      <td>NaN</td>\n",
              "      <td>3200.000000</td>\n",
              "      <td>3251.060000</td>\n",
              "      <td>3344.290000</td>\n",
              "      <td>3135.700000</td>\n",
              "    </tr>\n",
              "  </tbody>\n",
              "</table>\n",
              "</div>"
            ],
            "text/plain": [
              "              Data       Fechar        Abrir         Alto        Baixo\n",
              "count           20    20.000000    20.000000    20.000000    20.000000\n",
              "unique          20          NaN          NaN          NaN          NaN\n",
              "top     06/30/2020          NaN          NaN          NaN          NaN\n",
              "freq             1          NaN          NaN          NaN          NaN\n",
              "mean           NaN  3000.560500  2996.516115  3053.482280  2932.079560\n",
              "std            NaN   154.253819   167.470527   166.222577   145.069514\n",
              "min            NaN  2680.380000  2685.065000  2696.800000  2630.080000\n",
              "25%            NaN  2944.052500  2925.502500  3006.890000  2883.775525\n",
              "50%            NaN  3008.890000  3015.805000  3076.760000  2960.000000\n",
              "75%            NaN  3100.932500  3102.700975  3160.969900  3025.637575\n",
              "max            NaN  3200.000000  3251.060000  3344.290000  3135.700000"
            ]
          },
          "metadata": {
            "tags": []
          },
          "execution_count": 43
        }
      ]
    },
    {
      "cell_type": "code",
      "metadata": {
        "id": "VqwHzJAEjvbR",
        "colab_type": "code",
        "colab": {}
      },
      "source": [
        ""
      ],
      "execution_count": null,
      "outputs": []
    },
    {
      "cell_type": "code",
      "metadata": {
        "id": "2D5p2esMj6QK",
        "colab_type": "code",
        "colab": {
          "base_uri": "https://localhost:8080/",
          "height": 287
        },
        "outputId": "1e26769e-8c6b-4166-a808-d5310d73c945"
      },
      "source": [
        "dados.describe(percentiles=[0.1, 0.5, 0.9])"
      ],
      "execution_count": null,
      "outputs": [
        {
          "output_type": "execute_result",
          "data": {
            "text/html": [
              "<div>\n",
              "<style scoped>\n",
              "    .dataframe tbody tr th:only-of-type {\n",
              "        vertical-align: middle;\n",
              "    }\n",
              "\n",
              "    .dataframe tbody tr th {\n",
              "        vertical-align: top;\n",
              "    }\n",
              "\n",
              "    .dataframe thead th {\n",
              "        text-align: right;\n",
              "    }\n",
              "</style>\n",
              "<table border=\"1\" class=\"dataframe\">\n",
              "  <thead>\n",
              "    <tr style=\"text-align: right;\">\n",
              "      <th></th>\n",
              "      <th>Fechar</th>\n",
              "      <th>Volume</th>\n",
              "      <th>Abrir</th>\n",
              "      <th>Alto</th>\n",
              "      <th>Baixo</th>\n",
              "    </tr>\n",
              "  </thead>\n",
              "  <tbody>\n",
              "    <tr>\n",
              "      <th>count</th>\n",
              "      <td>20.000000</td>\n",
              "      <td>2.000000e+01</td>\n",
              "      <td>20.000000</td>\n",
              "      <td>20.000000</td>\n",
              "      <td>20.000000</td>\n",
              "    </tr>\n",
              "    <tr>\n",
              "      <th>mean</th>\n",
              "      <td>3000.560500</td>\n",
              "      <td>5.876231e+06</td>\n",
              "      <td>2996.516115</td>\n",
              "      <td>3053.482280</td>\n",
              "      <td>2932.079560</td>\n",
              "    </tr>\n",
              "    <tr>\n",
              "      <th>std</th>\n",
              "      <td>154.253819</td>\n",
              "      <td>1.120582e+06</td>\n",
              "      <td>167.470527</td>\n",
              "      <td>166.222577</td>\n",
              "      <td>145.069514</td>\n",
              "    </tr>\n",
              "    <tr>\n",
              "      <th>min</th>\n",
              "      <td>2680.380000</td>\n",
              "      <td>3.769686e+06</td>\n",
              "      <td>2685.065000</td>\n",
              "      <td>2696.800000</td>\n",
              "      <td>2630.080000</td>\n",
              "    </tr>\n",
              "    <tr>\n",
              "      <th>10%</th>\n",
              "      <td>2752.225000</td>\n",
              "      <td>4.211502e+06</td>\n",
              "      <td>2751.192000</td>\n",
              "      <td>2781.274920</td>\n",
              "      <td>2686.703000</td>\n",
              "    </tr>\n",
              "    <tr>\n",
              "      <th>50%</th>\n",
              "      <td>3008.890000</td>\n",
              "      <td>5.961920e+06</td>\n",
              "      <td>3015.805000</td>\n",
              "      <td>3076.760000</td>\n",
              "      <td>2960.000000</td>\n",
              "    </tr>\n",
              "    <tr>\n",
              "      <th>90%</th>\n",
              "      <td>3184.051000</td>\n",
              "      <td>7.268557e+06</td>\n",
              "      <td>3195.833000</td>\n",
              "      <td>3217.557580</td>\n",
              "      <td>3077.173440</td>\n",
              "    </tr>\n",
              "    <tr>\n",
              "      <th>max</th>\n",
              "      <td>3200.000000</td>\n",
              "      <td>7.720420e+06</td>\n",
              "      <td>3251.060000</td>\n",
              "      <td>3344.290000</td>\n",
              "      <td>3135.700000</td>\n",
              "    </tr>\n",
              "  </tbody>\n",
              "</table>\n",
              "</div>"
            ],
            "text/plain": [
              "            Fechar        Volume        Abrir         Alto        Baixo\n",
              "count    20.000000  2.000000e+01    20.000000    20.000000    20.000000\n",
              "mean   3000.560500  5.876231e+06  2996.516115  3053.482280  2932.079560\n",
              "std     154.253819  1.120582e+06   167.470527   166.222577   145.069514\n",
              "min    2680.380000  3.769686e+06  2685.065000  2696.800000  2630.080000\n",
              "10%    2752.225000  4.211502e+06  2751.192000  2781.274920  2686.703000\n",
              "50%    3008.890000  5.961920e+06  3015.805000  3076.760000  2960.000000\n",
              "90%    3184.051000  7.268557e+06  3195.833000  3217.557580  3077.173440\n",
              "max    3200.000000  7.720420e+06  3251.060000  3344.290000  3135.700000"
            ]
          },
          "metadata": {
            "tags": []
          },
          "execution_count": 45
        }
      ]
    },
    {
      "cell_type": "code",
      "metadata": {
        "id": "GLRr1ptoj6To",
        "colab_type": "code",
        "colab": {}
      },
      "source": [
        ""
      ],
      "execution_count": null,
      "outputs": []
    },
    {
      "cell_type": "code",
      "metadata": {
        "id": "ZchrYMpFkQNN",
        "colab_type": "code",
        "colab": {}
      },
      "source": [
        ""
      ],
      "execution_count": null,
      "outputs": []
    },
    {
      "cell_type": "markdown",
      "metadata": {
        "id": "SR0htH47kU0q",
        "colab_type": "text"
      },
      "source": [
        "Filtrando os dados\n",
        "\n",
        "Operadores de comparação\n",
        "\n",
        "* <\n",
        "* >\n",
        "* <=\n",
        "* > =\n",
        "* ==\n",
        "* ! =\n",
        "\n",
        "\n",
        "Usaremos esses operadores para comparar um valor específico com os valores da coluna. O resultado será uma série de booleanos: True e Falses. Verdadeiro se a comparação estiver correta, falso se a comparação não estiver correta.\n",
        "\n",
        "\n",
        "> Mascaramento pelo preço de fechamento\n",
        "\n",
        "Quando passamos uma série booleana para um quadro de dados usando o operador loc [], um novo quadro de dados será retornado contendo apenas os valores True."
      ]
    },
    {
      "cell_type": "code",
      "metadata": {
        "id": "LuD_x-VLkQQJ",
        "colab_type": "code",
        "colab": {
          "base_uri": "https://localhost:8080/",
          "height": 197
        },
        "outputId": "a55b01c9-62cd-4d30-bb7f-499960ae93f0"
      },
      "source": [
        "#Preço de fechamento mais de 300\n",
        "\n",
        "mask_closeprice = dados.Fechar > 300\n",
        "high_price = dados.loc[mask_closeprice]\n",
        "\n",
        "high_price.head()"
      ],
      "execution_count": null,
      "outputs": [
        {
          "output_type": "execute_result",
          "data": {
            "text/html": [
              "<div>\n",
              "<style scoped>\n",
              "    .dataframe tbody tr th:only-of-type {\n",
              "        vertical-align: middle;\n",
              "    }\n",
              "\n",
              "    .dataframe tbody tr th {\n",
              "        vertical-align: top;\n",
              "    }\n",
              "\n",
              "    .dataframe thead th {\n",
              "        text-align: right;\n",
              "    }\n",
              "</style>\n",
              "<table border=\"1\" class=\"dataframe\">\n",
              "  <thead>\n",
              "    <tr style=\"text-align: right;\">\n",
              "      <th></th>\n",
              "      <th>Data</th>\n",
              "      <th>Fechar</th>\n",
              "      <th>Volume</th>\n",
              "      <th>Abrir</th>\n",
              "      <th>Alto</th>\n",
              "      <th>Baixo</th>\n",
              "    </tr>\n",
              "  </thead>\n",
              "  <tbody>\n",
              "    <tr>\n",
              "      <th>0</th>\n",
              "      <td>07/24/2020</td>\n",
              "      <td>3008.91</td>\n",
              "      <td>5632413</td>\n",
              "      <td>2930.0000</td>\n",
              "      <td>3031.5800</td>\n",
              "      <td>2888.0000</td>\n",
              "    </tr>\n",
              "    <tr>\n",
              "      <th>1</th>\n",
              "      <td>07/23/2020</td>\n",
              "      <td>2986.55</td>\n",
              "      <td>5656906</td>\n",
              "      <td>3098.2713</td>\n",
              "      <td>3098.2713</td>\n",
              "      <td>2970.0000</td>\n",
              "    </tr>\n",
              "    <tr>\n",
              "      <th>2</th>\n",
              "      <td>07/22/2020</td>\n",
              "      <td>3099.91</td>\n",
              "      <td>4104225</td>\n",
              "      <td>3125.0000</td>\n",
              "      <td>3149.9999</td>\n",
              "      <td>3065.2600</td>\n",
              "    </tr>\n",
              "    <tr>\n",
              "      <th>3</th>\n",
              "      <td>07/21/2020</td>\n",
              "      <td>3138.29</td>\n",
              "      <td>6134965</td>\n",
              "      <td>3232.4900</td>\n",
              "      <td>3240.5758</td>\n",
              "      <td>3105.7200</td>\n",
              "    </tr>\n",
              "    <tr>\n",
              "      <th>4</th>\n",
              "      <td>07/20/2020</td>\n",
              "      <td>3196.84</td>\n",
              "      <td>7598176</td>\n",
              "      <td>3000.2000</td>\n",
              "      <td>3201.3599</td>\n",
              "      <td>2994.0172</td>\n",
              "    </tr>\n",
              "  </tbody>\n",
              "</table>\n",
              "</div>"
            ],
            "text/plain": [
              "         Data   Fechar   Volume      Abrir       Alto      Baixo\n",
              "0  07/24/2020  3008.91  5632413  2930.0000  3031.5800  2888.0000\n",
              "1  07/23/2020  2986.55  5656906  3098.2713  3098.2713  2970.0000\n",
              "2  07/22/2020  3099.91  4104225  3125.0000  3149.9999  3065.2600\n",
              "3  07/21/2020  3138.29  6134965  3232.4900  3240.5758  3105.7200\n",
              "4  07/20/2020  3196.84  7598176  3000.2000  3201.3599  2994.0172"
            ]
          },
          "metadata": {
            "tags": []
          },
          "execution_count": 48
        }
      ]
    },
    {
      "cell_type": "code",
      "metadata": {
        "id": "1ZbZ8DmrkQTj",
        "colab_type": "code",
        "colab": {}
      },
      "source": [
        ""
      ],
      "execution_count": null,
      "outputs": []
    },
    {
      "cell_type": "markdown",
      "metadata": {
        "id": "2I1TpldSmjxj",
        "colab_type": "text"
      },
      "source": [
        "**Visualização** de dados bold text\n",
        "\n",
        "\n",
        "Visualizar os dados é uma etapa importante para entender os dados. Isso nos ajuda a ver mais do que apenas linhas de valores, fornece uma imagem melhor dos dados. Também é útil quando queremos fazer comparações entre diferentes valores de dados.\n",
        "\n",
        "\n",
        "\n",
        "\n",
        "Visualizar os dados também é uma ótima maneira de entender e ver os relacionamentos entre diferentes colunas.\n",
        "\n",
        ">Matplotib\n",
        "\n",
        "A biblioteca de plotagem 2D mais usada é chamada Matplotlib. Esta biblioteca é muito poderosa, também possui uma curva de aprendizado. Com a ajuda dessa curva de aprendizado, outras bibliotecas foram construídas em torno dessa biblioteca.\n",
        "\n",
        "\n",
        "Vamos traçar os preços das ações no último mês. Nosso eixo x será a data e o eixo y será o preço de fechamento de cada dia. Isso nos mostrará como o preço das ações muda durante o período de um mês. Falando do ponto de vista comercial, esse gráfico de linha é chamado de gráfico de flutuação de preços, o que ajuda a detectar padrões sazonais no preço das ações."
      ]
    },
    {
      "cell_type": "code",
      "metadata": {
        "id": "RPmSIfrvjvik",
        "colab_type": "code",
        "colab": {
          "base_uri": "https://localhost:8080/",
          "height": 343
        },
        "outputId": "10eec966-93ca-4b5c-8efd-a80ff9186348"
      },
      "source": [
        "dados.plot(x='Data', y='Fechar', rot=90).set_title('Amazon')\n",
        "plt.show()"
      ],
      "execution_count": null,
      "outputs": [
        {
          "output_type": "display_data",
          "data": {
            "image/png": "[encoded data removed]",
            "text/plain": [
              "<Figure size 432x288 with 1 Axes>"
            ]
          },
          "metadata": {
            "tags": [],
            "needs_background": "light"
          }
        }
      ]
    },
    {
      "cell_type": "code",
      "metadata": {
        "id": "sZ7QsCgPi5JC",
        "colab_type": "code",
        "colab": {
          "base_uri": "https://localhost:8080/",
          "height": 343
        },
        "outputId": "24fa7af0-3d50-41e1-e363-584a006b2a84"
      },
      "source": [
        "dados.plot(x='Data', y='Fechar', kind='scatter', rot=90, title='Preço das açoes AMZN')\n",
        "plt.show()"
      ],
      "execution_count": null,
      "outputs": [
        {
          "output_type": "display_data",
          "data": {
            "image/png": "[encoded data removed]",
            "text/plain": [
              "<Figure size 432x288 with 1 Axes>"
            ]
          },
          "metadata": {
            "tags": [],
            "needs_background": "light"
          }
        }
      ]
    },
    {
      "cell_type": "code",
      "metadata": {
        "id": "fxnN74q0nrXx",
        "colab_type": "code",
        "colab": {
          "base_uri": "https://localhost:8080/",
          "height": 300
        },
        "outputId": "c3917c26-19f6-424b-acd3-8f44f1b93689"
      },
      "source": [
        "dados.plot(x='Data', y='Volume',kind='hist',rot=90, title='Preço das ações AMZN')\n",
        "\n",
        "plt.show()"
      ],
      "execution_count": null,
      "outputs": [
        {
          "output_type": "display_data",
          "data": {
            "image/png": "[encoded data removed]",
            "text/plain": [
              "<Figure size 432x288 with 1 Axes>"
            ]
          },
          "metadata": {
            "tags": [],
            "needs_background": "light"
          }
        }
      ]
    },
    {
      "cell_type": "code",
      "metadata": {
        "id": "Te8fvcuznran",
        "colab_type": "code",
        "colab": {}
      },
      "source": [
        ""
      ],
      "execution_count": null,
      "outputs": []
    },
    {
      "cell_type": "markdown",
      "metadata": {
        "id": "mbdc2ecbovsC",
        "colab_type": "text"
      },
      "source": [
        "Clauder Noronha"
      ]
    },
    {
      "cell_type": "code",
      "metadata": {
        "id": "adn1G9uKoxPz",
        "colab_type": "code",
        "colab": {}
      },
      "source": [
        ""
      ],
      "execution_count": null,
      "outputs": []
    }
  ]
}